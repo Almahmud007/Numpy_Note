{
 "cells": [
  {
   "cell_type": "markdown",
   "metadata": {},
   "source": [
    "# Agenda\n",
    "#### 1. Creating new 1D array, type checking, dimension checking and size checking.\n",
    "#### 2. Creating new 2D array, type checking, dimension checking and size checking.\n",
    "#### 3. Creating new 3D array, type checking, dimension checking and size checking."
   ]
  },
  {
   "cell_type": "code",
   "execution_count": 1,
   "metadata": {},
   "outputs": [],
   "source": [
    "import numpy as np"
   ]
  },
  {
   "cell_type": "markdown",
   "metadata": {},
   "source": [
    "#### 1. Creating new 1D array, type checking, dimension checking and size checking."
   ]
  },
  {
   "cell_type": "code",
   "execution_count": 9,
   "metadata": {},
   "outputs": [
    {
     "name": "stdout",
     "output_type": "stream",
     "text": [
      "[ 1  2  3  4  5  6  7  8  9 10 11]\n",
      "<class 'numpy.ndarray'>\n"
     ]
    }
   ],
   "source": [
    "# To create a new 1d array\n",
    "list1 = [1,2,3,4,5,6,7,8,9,10,11]\n",
    "ar_1 = np.array(list1)\n",
    "print(ar_1)\n",
    "print(type(ar_1))"
   ]
  },
  {
   "cell_type": "code",
   "execution_count": 10,
   "metadata": {},
   "outputs": [
    {
     "data": {
      "text/plain": [
       "1"
      ]
     },
     "execution_count": 10,
     "metadata": {},
     "output_type": "execute_result"
    }
   ],
   "source": [
    "# To check dimensions of the array\n",
    "ar_1.ndim"
   ]
  },
  {
   "cell_type": "code",
   "execution_count": 11,
   "metadata": {},
   "outputs": [
    {
     "data": {
      "text/plain": [
       "11"
      ]
     },
     "execution_count": 11,
     "metadata": {},
     "output_type": "execute_result"
    }
   ],
   "source": [
    "# To check size of the array. How many elements are there in the array.\n",
    "ar_1.size"
   ]
  },
  {
   "cell_type": "markdown",
   "metadata": {},
   "source": [
    "#### 2. Creating new 2D array, type checking, dimension checking and size checking."
   ]
  },
  {
   "cell_type": "code",
   "execution_count": 14,
   "metadata": {},
   "outputs": [
    {
     "name": "stdout",
     "output_type": "stream",
     "text": [
      "[[1 2 3 4 5]\n",
      " [1 2 3 4 5]]\n",
      "<class 'numpy.ndarray'>\n"
     ]
    }
   ],
   "source": [
    "list2 = [[1,2,3,4,5],[1,2,3,4,5]]\n",
    "ar_2 = np.array(list2)\n",
    "print(ar_2)\n",
    "print(type(ar_2))"
   ]
  },
  {
   "cell_type": "code",
   "execution_count": 18,
   "metadata": {},
   "outputs": [
    {
     "name": "stdout",
     "output_type": "stream",
     "text": [
      "Dimension of the array is:  2\n"
     ]
    }
   ],
   "source": [
    "print(f\"Dimension of the array is: \",ar_2.ndim)"
   ]
  },
  {
   "cell_type": "code",
   "execution_count": 19,
   "metadata": {},
   "outputs": [
    {
     "name": "stdout",
     "output_type": "stream",
     "text": [
      "Total elements of the array is:  10\n"
     ]
    }
   ],
   "source": [
    "print(f\"Total elements of the array is: \",ar_2.size)"
   ]
  },
  {
   "cell_type": "code",
   "execution_count": 22,
   "metadata": {},
   "outputs": [
    {
     "name": "stdout",
     "output_type": "stream",
     "text": [
      "(2, 5)\n",
      "Shape function is showing the number of row is 2 and column is 5\n"
     ]
    }
   ],
   "source": [
    "# To check shape of the of the array.\n",
    "print(ar_2.shape)\n",
    "print(f\"Shape function is showing the number of row is {ar_2.shape[0]} and column is {ar_2.shape[1]}\")"
   ]
  },
  {
   "cell_type": "code",
   "execution_count": 24,
   "metadata": {},
   "outputs": [
    {
     "name": "stdout",
     "output_type": "stream",
     "text": [
      "Data type of the array 2 is:  int32\n"
     ]
    }
   ],
   "source": [
    "print(f\"Data type of the array 2 is: \",ar_2.dtype)"
   ]
  },
  {
   "cell_type": "markdown",
   "metadata": {},
   "source": [
    "#### 3. Creating new 3D array, type checking, dimension checking and size checking."
   ]
  },
  {
   "cell_type": "code",
   "execution_count": 36,
   "metadata": {},
   "outputs": [
    {
     "name": "stdout",
     "output_type": "stream",
     "text": [
      "[[[1 2 3 4]]\n",
      "\n",
      " [[1 2 3 4]]\n",
      "\n",
      " [[1 2 3 4]]]\n"
     ]
    }
   ],
   "source": [
    "list3 = [[[1,2,3,4]],[[1,2,3,4]],[[1,2,3,4]]]\n",
    "ar_3 = np.array(list3)\n",
    "print(ar_3)"
   ]
  },
  {
   "cell_type": "code",
   "execution_count": 39,
   "metadata": {},
   "outputs": [
    {
     "name": "stdout",
     "output_type": "stream",
     "text": [
      "Datatype of the array is : int32\n",
      "Shape of the array is : (3, 1, 4)\n",
      "Dimension of the array is : 3\n"
     ]
    }
   ],
   "source": [
    "print(f\"Datatype of the array is : {ar_3.dtype}\")\n",
    "print(f\"Shape of the array is : {ar_3.shape}\")\n",
    "print(f\"Dimension of the array is : {ar_3.ndim}\")"
   ]
  },
  {
   "cell_type": "code",
   "execution_count": null,
   "metadata": {},
   "outputs": [],
   "source": []
  }
 ],
 "metadata": {
  "kernelspec": {
   "display_name": "base",
   "language": "python",
   "name": "python3"
  },
  "language_info": {
   "codemirror_mode": {
    "name": "ipython",
    "version": 3
   },
   "file_extension": ".py",
   "mimetype": "text/x-python",
   "name": "python",
   "nbconvert_exporter": "python",
   "pygments_lexer": "ipython3",
   "version": "3.9.13"
  },
  "orig_nbformat": 4
 },
 "nbformat": 4,
 "nbformat_minor": 2
}
